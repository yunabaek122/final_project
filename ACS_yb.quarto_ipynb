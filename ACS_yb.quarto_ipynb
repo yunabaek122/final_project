{
  "cells": [
    {
      "cell_type": "markdown",
      "metadata": {},
      "source": [
        "---\n",
        "title: \"Final Project_ACS Data\"\n",
        "format: html\n",
        "---"
      ],
      "id": "c690b846"
    },
    {
      "cell_type": "code",
      "metadata": {},
      "source": [
        "import geopandas as gpd\n",
        "import pandas as pd\n",
        "import pyogrio\n",
        "import os\n",
        "import matplotlib.pyplot as plt"
      ],
      "id": "9a9af33b",
      "execution_count": null,
      "outputs": []
    },
    {
      "cell_type": "code",
      "metadata": {},
      "source": [
        "path = \"/Users/yunabaek/Desktop/3. Python II/final_project\"\n",
        "\n",
        "acs5_df = pd.read_csv(os.path.join(path, \"ACS_5-Year_Demographic_Characteristics_DC_Census_Tract.csv\"))\n",
        "\n",
        "acs_shp = gpd.read_file(os.path.join(path, \"ACS_5-Year_Demographic_Characteristics_DC_Census_Tract/ACS_5-Year_Demographic_Characteristics_DC_Census_Tract.shp\"))\n",
        "\n",
        "poverty_df = pd.read_csv(os.path.join(path, \"ACSST1Y2023.S1701-2024-11-17T220536.csv\"))"
      ],
      "id": "6b714cd4",
      "execution_count": null,
      "outputs": []
    },
    {
      "cell_type": "code",
      "metadata": {},
      "source": [
        "social_df = pd.read_csv(os.path.join(path,\n",
        "\"ACS_5-Year_Social_Characteristics_DC_Census_Tract.csv\"))\n",
        "\n",
        "\n",
        "social_shp = gpd.read_file(os.path.join(path,\"ACS_5-Year_Social_Characteristics_DC_Census_Tract/ACS_5-Year_Social_Characteristics_DC_Census_Tract.shp\"))"
      ],
      "id": "87006399",
      "execution_count": null,
      "outputs": []
    },
    {
      "cell_type": "code",
      "metadata": {},
      "source": [
        "acs_shp.head(2)\n",
        "acs5_df.head(2)"
      ],
      "id": "a43c5d3e",
      "execution_count": null,
      "outputs": []
    },
    {
      "cell_type": "markdown",
      "metadata": {},
      "source": [
        "* Population of POC\n"
      ],
      "id": "c2345bc8"
    },
    {
      "cell_type": "code",
      "metadata": {},
      "source": [
        "average_poc = acs5_df.groupby(['GEOID'])['DP05_0079E'].mean().reset_index()"
      ],
      "id": "57fb0e5e",
      "execution_count": null,
      "outputs": []
    },
    {
      "cell_type": "markdown",
      "metadata": {},
      "source": [
        "Choropleth\n"
      ],
      "id": "39544931"
    },
    {
      "cell_type": "code",
      "metadata": {},
      "source": [
        "# poc_plot = acs_shp.merge(___df, left_on = 'GEOID', )"
      ],
      "id": "d6ee326c",
      "execution_count": null,
      "outputs": []
    },
    {
      "cell_type": "code",
      "metadata": {},
      "source": [
        "poc_plot = acs_shp.plot(column = 'DP05_0079E', legend=True,\n",
        "cmap='viridis',\n",
        "legend_kwds={'label': 'Population',\n",
        "'orientation': 'horizontal'}\n",
        ")"
      ],
      "id": "fa925f30",
      "execution_count": null,
      "outputs": []
    },
    {
      "cell_type": "code",
      "metadata": {},
      "source": [
        "social_plot = social_shp.plot(column = 'DP02_0072E', legend=True,\n",
        "cmap='viridis',\n",
        "legend_kwds={'label': 'Population',\n",
        "'orientation': 'horizontal'}\n",
        ")"
      ],
      "id": "6ad42f02",
      "execution_count": null,
      "outputs": []
    },
    {
      "cell_type": "markdown",
      "metadata": {},
      "source": [
        "average_distance =\n",
        "↪ nearest_hospital.groupby(['ZCTA5_left'])['distance'].mean().reset_index()\n",
        "average_distance = average_distance.rename(columns={'ZCTA5_left':'zip'})\n",
        "\n",
        "texas_hospitals_distance = zips_texas_centroids.merge(\n",
        "average_distance,\n",
        "left_on='ZCTA5',\n",
        "right_on='zip',\n",
        "how='outer'\n",
        ")\n",
        "texas_hospitals_distance.plot(column='distance', legend=True,\n",
        "cmap='viridis',\n",
        "legend_kwds={'label':'Miles',\n",
        "'orientation':'horizontal'}\n",
        ")\n",
        "plt.title('Average Distance to Nearest Hospital by Zip Code')\n",
        "plt.axis('off')\n",
        "plt.show()\n",
        "\n",
        "\n",
        "Poverty / Low-income\n"
      ],
      "id": "bd59d549"
    },
    {
      "cell_type": "code",
      "metadata": {},
      "source": [
        "poverty_df.head()\n",
        "\n",
        "poverty_df.rename(columns={'District of Columbia!!Percent below poverty level!!Estimate': 'pct_below_poverty'}, inplace=True)"
      ],
      "id": "6f94b717",
      "execution_count": null,
      "outputs": []
    }
  ],
  "metadata": {
    "kernelspec": {
      "name": "python3",
      "language": "python",
      "display_name": "Python 3 (ipykernel)",
      "path": "/Users/yunabaek/Desktop/3. Python II/.venv/share/jupyter/kernels/python3"
    }
  },
  "nbformat": 4,
  "nbformat_minor": 5
}